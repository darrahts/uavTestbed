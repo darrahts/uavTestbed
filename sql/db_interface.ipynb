{
 "cells": [
  {
   "cell_type": "markdown",
   "id": "1df36401-fd5b-4b60-ae35-e9b8ecf37f53",
   "metadata": {},
   "source": [
    "# database interface & plotting examples"
   ]
  },
  {
   "cell_type": "code",
   "execution_count": null,
   "id": "555663cb-90c7-4cf8-b8b2-52794cecad52",
   "metadata": {},
   "outputs": [],
   "source": []
  },
  {
   "cell_type": "code",
   "execution_count": null,
   "id": "734545dd-6821-4dbc-84a0-12b0fda566c4",
   "metadata": {},
   "outputs": [],
   "source": []
  },
  {
   "cell_type": "code",
   "execution_count": null,
   "id": "4d18a864-3373-4cdd-a42f-e056716ea8e1",
   "metadata": {},
   "outputs": [],
   "source": []
  }
 ],
 "metadata": {
  "kernelspec": {
   "display_name": "Python 3",
   "language": "python",
   "name": "python3"
  },
  "language_info": {
   "codemirror_mode": {
    "name": "ipython",
    "version": 3
   },
   "file_extension": ".py",
   "mimetype": "text/x-python",
   "name": "python",
   "nbconvert_exporter": "python",
   "pygments_lexer": "ipython3",
   "version": "3.7.10"
  }
 },
 "nbformat": 4,
 "nbformat_minor": 5
}
