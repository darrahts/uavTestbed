{
 "cells": [
  {
   "cell_type": "code",
   "execution_count": 1,
   "id": "269ab8ed-c990-4052-8878-bde2ab8c7e60",
   "metadata": {},
   "outputs": [],
   "source": [
    "import pandas as pd\n",
    "import numpy as np"
   ]
  },
  {
   "cell_type": "code",
   "execution_count": 5,
   "id": "bee0d607-aa38-4d7a-87f5-c28ed9afbf42",
   "metadata": {},
   "outputs": [],
   "source": [
    "statement = f\"\"\"insert into process_tb(\"type_id\", \"description\", \"source\", \"parameters\") values \"\"\"\n",
    "values (r_deg_id, 'continuous usage based v1', 'NASA prognostics data set', '{\"q_coef\": [-1.066833707744579e-07,3.189004105646720e-05,21.778944640347570]}'),\n",
    "(q_deg_id, 'continuous usage based v2', 'NASA prognostics data set', '{\"q_coef\": [-2.133667415489170e-07,6.378008211294554e-05,21.557889280695125]}'),\n",
    "(q_deg_id, 'continuous usage based v3', 'NASA prognostics data set', '{\"q_coef\": [-3.964636685641575e-07,9.164360283399920e-05,21.508765867439045]}'),\n",
    "(r_deg_id, 'continuous usage based v1', 'NASA prognostics data set', '{\"r_coef\": [1.209742676232072e-09,3.756102295903853e-06,0.0011]}'),\n",
    "(r_deg_id, 'continuous usage based v2', 'NASA prognostics data set', '{\"r_coef\": [1.574235975754939e-09,1.318054396279285e-05,0.0011]}'),\n",
    "(m_deg_id, 'continuous usage based v1', 'experimentation', '{\"r_coef\": [2.91940637233805e-08,2.51296556203587e-05,0.267534750087853]}');\"\"\""
   ]
  },
  {
   "cell_type": "code",
   "execution_count": 35,
   "id": "d55fd6f8-1433-4a80-b580-76810fbcb8e0",
   "metadata": {},
   "outputs": [
    {
     "data": {
      "text/html": [
       "<div>\n",
       "<style scoped>\n",
       "    .dataframe tbody tr th:only-of-type {\n",
       "        vertical-align: middle;\n",
       "    }\n",
       "\n",
       "    .dataframe tbody tr th {\n",
       "        vertical-align: top;\n",
       "    }\n",
       "\n",
       "    .dataframe thead th {\n",
       "        text-align: right;\n",
       "    }\n",
       "</style>\n",
       "<table border=\"1\" class=\"dataframe\">\n",
       "  <thead>\n",
       "    <tr style=\"text-align: right;\">\n",
       "      <th></th>\n",
       "      <th>0</th>\n",
       "      <th>1</th>\n",
       "      <th>2</th>\n",
       "    </tr>\n",
       "  </thead>\n",
       "  <tbody>\n",
       "    <tr>\n",
       "      <th>0</th>\n",
       "      <td>6577.9</td>\n",
       "      <td>0.98457</td>\n",
       "      <td>0.003599</td>\n",
       "    </tr>\n",
       "    <tr>\n",
       "      <th>1</th>\n",
       "      <td>4591.5</td>\n",
       "      <td>0.98498</td>\n",
       "      <td>0.003922</td>\n",
       "    </tr>\n",
       "    <tr>\n",
       "      <th>2</th>\n",
       "      <td>4388.4</td>\n",
       "      <td>0.98276</td>\n",
       "      <td>0.002686</td>\n",
       "    </tr>\n",
       "    <tr>\n",
       "      <th>3</th>\n",
       "      <td>4682.2</td>\n",
       "      <td>0.98227</td>\n",
       "      <td>0.002253</td>\n",
       "    </tr>\n",
       "    <tr>\n",
       "      <th>4</th>\n",
       "      <td>5095.2</td>\n",
       "      <td>0.98769</td>\n",
       "      <td>0.006473</td>\n",
       "    </tr>\n",
       "  </tbody>\n",
       "</table>\n",
       "</div>"
      ],
      "text/plain": [
       "        0        1         2\n",
       "0  6577.9  0.98457  0.003599\n",
       "1  4591.5  0.98498  0.003922\n",
       "2  4388.4  0.98276  0.002686\n",
       "3  4682.2  0.98227  0.002253\n",
       "4  5095.2  0.98769  0.006473"
      ]
     },
     "execution_count": 35,
     "metadata": {},
     "output_type": "execute_result"
    }
   ],
   "source": [
    "df = pd.read_csv('esc_failure_profiles_2.csv', header=None)\n",
    "df.head()"
   ]
  },
  {
   "cell_type": "code",
   "execution_count": 36,
   "id": "af1e0385-7449-4cb3-aa08-b7221f7f28e2",
   "metadata": {},
   "outputs": [
    {
     "name": "stdout",
     "output_type": "stream",
     "text": [
      "insert into process_tb(\"type_id\", \"description\", \"source\", \"parameters\") values (e_deg_id, 'usage based failure probability v0','experimentation', '{\"e_coef\":[6577.9, 0.98457, 0.0035989]}'), (e_deg_id, 'usage based failure probability v1','experimentation', '{\"e_coef\":[4591.5, 0.98498, 0.0039224]}'), (e_deg_id, 'usage based failure probability v2','experimentation', '{\"e_coef\":[4388.4, 0.98276, 0.0026856]}'), (e_deg_id, 'usage based failure probability v3','experimentation', '{\"e_coef\":[4682.2, 0.98227, 0.002253]}'), (e_deg_id, 'usage based failure probability v4','experimentation', '{\"e_coef\":[5095.2, 0.98769, 0.0064729]}'), (e_deg_id, 'usage based failure probability v5','experimentation', '{\"e_coef\":[5392.8, 0.98648, 0.0055526]}'), (e_deg_id, 'usage based failure probability v6','experimentation', '{\"e_coef\":[4596.3, 0.9882, 0.0065211]}'), (e_deg_id, 'usage based failure probability v7','experimentation', '{\"e_coef\":[5683.4, 0.98414, 0.0035442]}'), (e_deg_id, 'usage based failure probability v8','experimentation', '{\"e_coef\":[6569.4, 0.98541, 0.0028965]}'), (e_deg_id, 'usage based failure probability v9','experimentation', '{\"e_coef\":[5695.3, 0.98788, 0.0074497]}'), (e_deg_id, 'usage based failure probability v10','experimentation', '{\"e_coef\":[4796.1, 0.98818, 0.0067014]}'), (e_deg_id, 'usage based failure probability v11','experimentation', '{\"e_coef\":[5194.6, 0.98737, 0.0062454]}'), (e_deg_id, 'usage based failure probability v12','experimentation', '{\"e_coef\":[7269.0, 0.98705, 0.0033233]}'), (e_deg_id, 'usage based failure probability v13','experimentation', '{\"e_coef\":[5956.0, 0.9875, 0.0018822]}'), (e_deg_id, 'usage based failure probability v14','experimentation', '{\"e_coef\":[4790.6, 0.98496, 0.0039739]}'), (e_deg_id, 'usage based failure probability v15','experimentation', '{\"e_coef\":[5386.4, 0.9844, 0.0037459]}'), (e_deg_id, 'usage based failure probability v16','experimentation', '{\"e_coef\":[6994.0, 0.98681, 0.0083808]}'), (e_deg_id, 'usage based failure probability v17','experimentation', '{\"e_coef\":[5576.7, 0.98362, 0.0027358]}'), (e_deg_id, 'usage based failure probability v18','experimentation', '{\"e_coef\":[5873.4, 0.98406, 0.0027042]}'), (e_deg_id, 'usage based failure probability v19','experimentation', '{\"e_coef\":[4680.8, 0.98208, 0.002054]}'), (e_deg_id, 'usage based failure probability v20','experimentation', '{\"e_coef\":[5983.9, 0.9844, 0.0038772]}'), (e_deg_id, 'usage based failure probability v21','experimentation', '{\"e_coef\":[6075.0, 0.9842, 0.0029703]}'), (e_deg_id, 'usage based failure probability v22','experimentation', '{\"e_coef\":[7188.0, 0.98516, 0.0059047]}'), (e_deg_id, 'usage based failure probability v23','experimentation', '{\"e_coef\":[5792.4, 0.98639, 0.0058523]}'), (e_deg_id, 'usage based failure probability v24','experimentation', '{\"e_coef\":[4896.5, 0.98858, 0.0072715]}'), (e_deg_id, 'usage based failure probability v25','experimentation', '{\"e_coef\":[4894.7, 0.98725, 0.0058413]}'), (e_deg_id, 'usage based failure probability v26','experimentation', '{\"e_coef\":[5490.4, 0.98555, 0.0047734]}'), (e_deg_id, 'usage based failure probability v27','experimentation', '{\"e_coef\":[6295.0, 0.9876, 0.008077]}'), (e_deg_id, 'usage based failure probability v28','experimentation', '{\"e_coef\":[5396.0, 0.98831, 0.0075754]}'), (e_deg_id, 'usage based failure probability v29','experimentation', '{\"e_coef\":[6357.2, 0.98784, 0.0021568]}'), (e_deg_id, 'usage based failure probability v30','experimentation', '{\"e_coef\":[5694.9, 0.98763, 0.0071361]}'), (e_deg_id, 'usage based failure probability v31','experimentation', '{\"e_coef\":[5191.9, 0.98594, 0.0049107]}'), (e_deg_id, 'usage based failure probability v32','experimentation', '{\"e_coef\":[6395.3, 0.98775, 0.0085081]}'), (e_deg_id, 'usage based failure probability v33','experimentation', '{\"e_coef\":[7342.1, 1.0055, 0.0019648]}'), (e_deg_id, 'usage based failure probability v34','experimentation', '{\"e_coef\":[5297.0, 0.9892, 0.0086617]}'), (e_deg_id, 'usage based failure probability v35','experimentation', '{\"e_coef\":[5892.7, 0.98653, 0.0061177]}'), (e_deg_id, 'usage based failure probability v36','experimentation', '{\"e_coef\":[6892.4, 0.9862, 0.0072053]}'), (e_deg_id, 'usage based failure probability v37','experimentation', '{\"e_coef\":[5593.8, 0.987, 0.0062771]}'), (e_deg_id, 'usage based failure probability v38','experimentation', '{\"e_coef\":[5850.3, 0.98992, 0.0016132]}'), (e_deg_id, 'usage based failure probability v39','experimentation', '{\"e_coef\":[4597.8, 0.98972, 0.0083958]}'), (e_deg_id, 'usage based failure probability v40','experimentation', '{\"e_coef\":[5192.6, 0.98625, 0.0051737]}'), (e_deg_id, 'usage based failure probability v41','experimentation', '{\"e_coef\":[4996.9, 0.98901, 0.0079403]}'), (e_deg_id, 'usage based failure probability v42','experimentation', '{\"e_coef\":[5744.2, 1.008, 0.0010408]}'), (e_deg_id, 'usage based failure probability v43','experimentation', '{\"e_coef\":[5162.8, 0.9902, 0.0012103]}'), (e_deg_id, 'usage based failure probability v44','experimentation', '{\"e_coef\":[5596.3, 0.98859, 0.0082477]}'), (e_deg_id, 'usage based failure probability v45','experimentation', '{\"e_coef\":[4973.0, 0.983, 0.0018261]}'), (e_deg_id, 'usage based failure probability v46','experimentation', '{\"e_coef\":[4193.9, 0.98031, 0.0016074]}'), (e_deg_id, 'usage based failure probability v47','experimentation', '{\"e_coef\":[4498.0, 0.98992, 0.0085711]}'), (e_deg_id, 'usage based failure probability v48','experimentation', '{\"e_coef\":[6234.7, 1.0058, 0.0012853]}'), (e_deg_id, 'usage based failure probability v49','experimentation', '{\"e_coef\":[5590.0, 0.98545, 0.0047561]}');\n"
     ]
    }
   ],
   "source": [
    "statement = f\"\"\"insert into process_tb(\"type_id\", \"description\", \"source\", \"parameters\") values \"\"\"\n",
    "for i, row in df.iterrows():\n",
    "    vals = [row[0],row[1],row[2]]\n",
    "    res = f\"(e_deg_id, 'usage based failure probability v{i}',\" + \"\"\"'experimentation', '{\"e_coef\":\"\"\" + f\"{vals}\" + \"\"\"}')\"\"\"\n",
    "    if i < len(df) - 1:\n",
    "        res = res + \", \"\n",
    "    else:\n",
    "        res = res + ';'\n",
    "    statement = statement + res\n",
    "print(statement)"
   ]
  },
  {
   "cell_type": "code",
   "execution_count": 19,
   "id": "657a62f5-76e3-4674-8549-3ff2065159be",
   "metadata": {},
   "outputs": [
    {
     "data": {
      "text/plain": [
       "50"
      ]
     },
     "execution_count": 19,
     "metadata": {},
     "output_type": "execute_result"
    }
   ],
   "source": [
    "len(df)"
   ]
  },
  {
   "cell_type": "code",
   "execution_count": null,
   "id": "d8828b2c-2c5f-4275-8d59-27ece3d3d83d",
   "metadata": {},
   "outputs": [],
   "source": []
  }
 ],
 "metadata": {
  "kernelspec": {
   "display_name": "Python 3 (ipykernel)",
   "language": "python",
   "name": "python3"
  },
  "language_info": {
   "codemirror_mode": {
    "name": "ipython",
    "version": 3
   },
   "file_extension": ".py",
   "mimetype": "text/x-python",
   "name": "python",
   "nbconvert_exporter": "python",
   "pygments_lexer": "ipython3",
   "version": "3.9.12"
  }
 },
 "nbformat": 4,
 "nbformat_minor": 5
}
